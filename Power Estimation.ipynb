{
 "cells": [
  {
   "cell_type": "code",
   "execution_count": null,
   "id": "d40919a1",
   "metadata": {},
   "outputs": [],
   "source": [
    "import math\n",
    "import numpy as np\n",
    "from sklearn.linear_model import LinearRegression\n",
    "\n",
    "voltage = 96 #volts\n",
    "speed_0 = 50 #km/h\n",
    "speed_1 = 50 #km/h\n",
    "grad = 0 #deg\n",
    "time = 60 #s\n",
    "air_density = 1.204 #kg/m^3\n",
    "coef_drag = 0.19\n",
    "coef_rr = 0.0023\n",
    "car_mass = 575 #kg\n",
    "accel_g = 9.81 #m/s^2\n",
    "wheel_radius = 0.2 #m\n",
    "wind_speed = 0 #km/h\n",
    "cross_section = 2.21 #m^2"
   ]
  },
  {
   "cell_type": "code",
   "execution_count": null,
   "id": "d3f110cb",
   "metadata": {},
   "outputs": [],
   "source": [
    "###intermediate variables\n",
    "_speed_0 = 0.277777778*speed_0 #m/s\n",
    "_speed_1 = 0.277777778*speed_1 #m/s\n",
    "accel = (_speed_1 - _speed_0) / time\n",
    "force_rr = coef_rr*car_mass*accel_g*math.cos(math.radians(grad))\n",
    "force_drag = 0.5*air_density*coef_drag*((_speed_0 + _speed_1)/2 + wind_speed)**2\n",
    "force_grad = car_mass*accel_g*math.sin(math.radians(grad))\n",
    "force_accel = car_mass*accel\n",
    "accel_distance = time*_speed_0 + (accel*time**2)/2\n",
    "force_tractive = force_rr + force_drag + force_grad + force_accel\n",
    "work = accel_distance * force_tractive"
   ]
  },
  {
   "cell_type": "code",
   "execution_count": null,
   "id": "b581d110",
   "metadata": {},
   "outputs": [],
   "source": [
    "avg_tractive_power = work / time\n",
    "print(force_tractive)"
   ]
  },
  {
   "cell_type": "code",
   "execution_count": null,
   "id": "6c86895f",
   "metadata": {},
   "outputs": [],
   "source": [
    "efficiencyDataX = np.array([0, 16.688, 152.532, 246.05, 335.306, 423.94, 513.536, 677.019, \n",
    "                            840.528, 996.03, 1147.608, 1278.624, 1405.316, 1537.61, 1783.478, 1974.78]).reshape((-1,1))\n",
    "efficiencyDataY = np.array([0, 28, 171, 266, 359, 451, 544, 721, 898, 1071, 1242, 1402, 1558, 1718, 2069, 2385])\n",
    "effModel = LinearRegression()\n",
    "effModel.fit(efficiencyDataX, efficiencyDataY)\n",
    "\n",
    "r_sq = effModel.score(efficiencyDataX, efficiencyDataY)\n",
    "_b = effModel.intercept_\n",
    "_m = effModel.coef_\n",
    "print(f\"coefficient of determination: {r_sq}\")\n",
    "print(f\"intercept: {_b}\")\n",
    "print(f\"slope: {_m}\")\n",
    "\n",
    "avg_electrical_power = effModel.predict(np.array([avg_tractive_power]).reshape((-1,1)))\n",
    "print(f\"trac_power: {avg_tractive_power}W\")\n",
    "\n",
    "print(f\"elec_power: {avg_electrical_power[0]}W\")\n",
    "eff = (avg_tractive_power/avg_electrical_power[0]) * 100\n",
    "print(f\"eff: {eff}%\")"
   ]
  }
 ],
 "metadata": {
  "kernelspec": {
   "display_name": "Python 3 (ipykernel)",
   "language": "python",
   "name": "python3"
  },
  "language_info": {
   "codemirror_mode": {
    "name": "ipython",
    "version": 3
   },
   "file_extension": ".py",
   "mimetype": "text/x-python",
   "name": "python",
   "nbconvert_exporter": "python",
   "pygments_lexer": "ipython3",
   "version": "3.11.3"
  }
 },
 "nbformat": 4,
 "nbformat_minor": 5
}
