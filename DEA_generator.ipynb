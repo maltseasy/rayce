{
 "cells": [
  {
   "cell_type": "code",
   "execution_count": 1,
   "id": "ef601b98",
   "metadata": {},
   "outputs": [],
   "source": [
    "# imports\n",
    "from __future__ import annotations\n",
    "\n",
    "import math\n",
    "import requests\n",
    "import xml.etree.ElementTree as ET"
   ]
  },
  {
   "cell_type": "code",
   "execution_count": 2,
   "id": "b56a5845",
   "metadata": {},
   "outputs": [],
   "source": [
    "API_KEY = \"0AaKvkxb1Q452IX0NDW0zmN9TBKu1gquS5zoll4d5Ws\"\n",
    "API_URL = \"https://atlas.microsoft.com/weather/route/json\"\n",
    "SPEED = 55"
   ]
  },
  {
   "cell_type": "code",
   "execution_count": 3,
   "id": "7ad0fe91",
   "metadata": {},
   "outputs": [],
   "source": [
    "class Coordinate:\n",
    "    def __init__(self, lon: float, lat: float, elevation: float):\n",
    "        self.lon = lon\n",
    "        self.lat = lat\n",
    "        self.elevation = elevation\n",
    "\n",
    "    def __str__(self):\n",
    "        return f\"Lat: {self.lat} | Lon: {self.lon} | Elevation: {self.elevation}\"\n",
    "    \n",
    "    def __repr__(self):\n",
    "        return f\"Lat: {self.lat} | Lon: {self.lon} | Elevation: {self.elevation}\""
   ]
  },
  {
   "cell_type": "code",
   "execution_count": 4,
   "id": "a738bdad",
   "metadata": {},
   "outputs": [],
   "source": [
    "class Placemark:\n",
    "    def __init__(self, name: str, coords: list[Coordinate]):\n",
    "        self.name = name\n",
    "        self.coords = coords\n",
    "\n",
    "    def __str__(self):\n",
    "        return f\"{self.name}: {self.coords}\"\n",
    "    \n",
    "    def __repr__(self):\n",
    "        return f\"{self.name}: {self.coords}\""
   ]
  },
  {
   "cell_type": "code",
   "execution_count": 5,
   "id": "c7260b8d",
   "metadata": {},
   "outputs": [],
   "source": [
    "def parse_kml_file(filename):\n",
    "    root = ET.parse(filename).getroot()\n",
    "    placemarks = []\n",
    "    for child in root[0]:\n",
    "        if child.tag == '{http://www.opengis.net/kml/2.2}Placemark':\n",
    "            # name tag\n",
    "            name = child.find('{http://www.opengis.net/kml/2.2}name').text\n",
    "            coords = []\n",
    "            # coordinates tag\n",
    "            p_coords = child.find('{http://www.opengis.net/kml/2.2}LineString').find('{http://www.opengis.net/kml/2.2}coordinates')\n",
    "            for line in p_coords.text.split(\"\\n\"):\n",
    "                line = line.strip() \n",
    "                if (len(line) == 0):\n",
    "                    continue\n",
    "\n",
    "                parts = line.split(\",\")\n",
    "                coords.append(Coordinate(float(parts[0]),float(parts[1]),float(parts[2])))\n",
    "\n",
    "            placemarks.append(Placemark(name, coords))\n",
    "\n",
    "\n",
    "    return placemarks"
   ]
  },
  {
   "cell_type": "code",
   "execution_count": 6,
   "id": "e2ca2403",
   "metadata": {},
   "outputs": [],
   "source": [
    "def batch_elems(elems: list, size: int):\n",
    "    if (len(elems) == 0):\n",
    "        return []\n",
    "    \n",
    "    out = [[]]\n",
    "\n",
    "    for elem in elems:\n",
    "        if len(out[-1]) < size:\n",
    "            out[-1].append(elem)\n",
    "        else:\n",
    "            out.append([elem])\n",
    "\n",
    "    return out"
   ]
  },
  {
   "cell_type": "code",
   "execution_count": 7,
   "id": "75d7a77c",
   "metadata": {},
   "outputs": [],
   "source": [
    "#equation to calculate distance between coordinates \n",
    "def heversine(lon1: float, lat1: float, lon2: float, lat2: float):\n",
    "    R = 6371.0  #Radius of the Earth in km\n",
    "    lat1 = math.radians(lat1)\n",
    "    lon1 = math.radians(lon1)\n",
    "    lat2 = math.radians(lat2)\n",
    "    lon2 = math.radians(lon2)\n",
    "    \n",
    "    dlon = lon2 - lon1\n",
    "    dlat = lat2 - lat1\n",
    "    a = math.sin(dlat / 2)**2 + math.cos(lat1) * math.cos(lat2) * math.sin(dlon / 2)**2\n",
    "    c = 2 * math.atan2(math.sqrt(a), math.sqrt(1 - a))\n",
    "    distance = R * c\n",
    "    \n",
    "    return distance"
   ]
  },
  {
   "cell_type": "code",
   "execution_count": 8,
   "id": "c383f6e4",
   "metadata": {},
   "outputs": [],
   "source": [
    "def flat_2d(input: list[list]):\n",
    "    out = []\n",
    "    for i in input:\n",
    "        out.extend(i)\n",
    "\n",
    "    return out"
   ]
  },
  {
   "cell_type": "code",
   "execution_count": 9,
   "id": "fde26b4d",
   "metadata": {},
   "outputs": [],
   "source": [
    "def weather_data_req(data: list[tuple[Coordinate, float]]):\n",
    "    query = \":\".join(map(lambda d: f\"{d[0].lat},{d[0].lon},{d[1]}\", data))\n",
    "    \n",
    "    params = {\n",
    "        \"api-version\": \"1.1\",\n",
    "        \"subscription-key\": API_KEY,\n",
    "        \"query\": query\n",
    "    }\n",
    "\n",
    "    res = requests.get(API_URL, params)\n",
    "    if not (res.status_code == 200):\n",
    "        raise Exception(res)\n",
    "\n",
    "    # json = res.json()\n",
    "    # assert(len(json[\"waypoints\"]) == len(data))\n",
    "    return res"
   ]
  },
  {
   "cell_type": "code",
   "execution_count": 10,
   "id": "1cf85f01",
   "metadata": {},
   "outputs": [],
   "source": [
    "def get_weather_data(coords: list[Coordinate], time_offset: int = 0, speed: float = SPEED):\n",
    "    if len(coords) == 0: return []\n",
    "\n",
    "    coords_with_time: list[tuple[Coordinate, float]] = []\n",
    "    running_distance = 0\n",
    "\n",
    "    for i in range(len(coords)):\n",
    "        c1 = coords[i]\n",
    "        if i > 0:\n",
    "            c1 = coords[i-1]\n",
    "            \n",
    "        c2 = coords[i]\n",
    "        distance = heversine(float(c1.lon), float(c1.lat), float(c2.lon), float(c2.lat))\n",
    "        running_distance = running_distance + distance\n",
    "        \n",
    "        coords_with_time.append(\n",
    "            (\n",
    "                c2,\n",
    "                min((running_distance / speed * 60)+time_offset, 120) # max 120 minutes\n",
    "            )\n",
    "        )\n",
    "    \n",
    "    # list[list[tuple[Coordinate, float]]]\n",
    "    # [\n",
    "    #     [\n",
    "    #         (coord, eta),\n",
    "    #         (coord, eta),\n",
    "    #         (coord, eta),\n",
    "    #         ...\n",
    "    #     ],\n",
    "    #     [\n",
    "    #         (coord, eta),\n",
    "    #         (coord, eta),\n",
    "    #         (coord, eta),\n",
    "    #         ...\n",
    "    #     ],\n",
    "    #     ...\n",
    "    # ]\n",
    "    batched: list[list[tuple[Coordinate, float]]] = batch_elems(coords_with_time, 60)\n",
    "\n",
    "    responses = []\n",
    "\n",
    "    for batch in batched:\n",
    "        res = weather_data_req(batch)\n",
    "        if not (res.status_code == 200):\n",
    "            print(res.json())\n",
    "            raise Exception(res.json())\n",
    "        responses.append(res.json())\n",
    "\n",
    "    # return list of waypoints\n",
    "    return flat_2d(map(lambda r: r[\"waypoints\"], responses))"
   ]
  },
  {
   "cell_type": "code",
   "execution_count": 15,
   "id": "1b227f32",
   "metadata": {},
   "outputs": [],
   "source": [
    "# data: [(distance, elevation, cloud_cover_%, wind_dir, wind_speed)]\n",
    "def write_csv(name: str, data: list[tuple[float, float, float, float, int, int, int]]):\n",
    "    path = f\"data/generated/{name}.csv\"\n",
    "\n",
    "    with open(path, 'w') as csvfile:\n",
    "        csvfile.write(f'{name}\\nLat,Lon,Distance,Elevation,Cloud Cover,Wind Direction,Wind Speed\\n')\n",
    "        for row in data:\n",
    "            csvfile.write(f\"{row[0]},{row[1]},{row[2]},{row[3]},{row[4]},{row[5]},{row[6]}\\n\")"
   ]
  },
  {
   "cell_type": "code",
   "execution_count": 16,
   "id": "3250eabd",
   "metadata": {},
   "outputs": [],
   "source": [
    "def calc_distance(coords: list[Coordinate], current_coord: Coordinate):\n",
    "    running_total = 0\n",
    "    stop_index = coords.index(current_coord)\n",
    "    for i in range(stop_index+1):\n",
    "       if i > 0: running_total += heversine(coords[i-1].lon, coords[i-1].lat, coords[i].lon, coords[i].lat)\n",
    "    return running_total"
   ]
  },
  {
   "cell_type": "code",
   "execution_count": 17,
   "id": "ad0b9c65",
   "metadata": {},
   "outputs": [],
   "source": [
    "def generate_data(path_to_kml: str):\n",
    "    placemarks = parse_kml_file(path_to_kml)\n",
    "\n",
    "    for placemark in placemarks:\n",
    "        route_data: list[tuple[float, float, float, float]] = list(map(lambda p: (p.lat, p.lon, calc_distance(placemark.coords, p), p.elevation), placemark.coords))\n",
    "        weather_data: list[tuple[int, int ,int]] = list(map(lambda w: (w[\"cloudCover\"], w[\"wind\"][\"direction\"][\"degrees\"], w[\"wind\"][\"speed\"][\"value\"]), get_weather_data(placemark.coords)))\n",
    "\n",
    "        assert(len(weather_data) == len(route_data))\n",
    "        \n",
    "        csv_data: list[tuple[float, float, float, float, int, int, int]] = []\n",
    "        for i in range(len(route_data)):\n",
    "            csv_data.append((route_data[i][0],route_data[i][1], route_data[i][2], route_data[i][3], weather_data[i][0], weather_data[i][1], weather_data[i][2]))\n",
    "            \n",
    "        write_csv(placemark.name, csv_data)\n",
    "        print(placemark.name)\n",
    "\n",
    "# (condition) ? val1 : val2\n",
    "\n",
    "# val1 if condition else val2"
   ]
  },
  {
   "cell_type": "code",
   "execution_count": 18,
   "id": "b9707266",
   "metadata": {},
   "outputs": [
    {
     "name": "stdout",
     "output_type": "stream",
     "text": [
      "A. Independence to Topeka\n",
      "C. Grand Island to Gering\n",
      "D. Gering to Casper\n",
      "E. Casper to Lander\n",
      "F. Lander to Montpelier\n",
      "G. Montpelier to Pocatello\n",
      "H. Pocatello to Twin Falls\n",
      "B. Topeka to Grand Island\n"
     ]
    }
   ],
   "source": [
    "generate_data(\"data/Main Route.kml\")"
   ]
  },
  {
   "cell_type": "code",
   "execution_count": null,
   "id": "b750cad5",
   "metadata": {},
   "outputs": [],
   "source": []
  }
 ],
 "metadata": {
  "kernelspec": {
   "display_name": "Python 3 (ipykernel)",
   "language": "python",
   "name": "python3"
  },
  "language_info": {
   "codemirror_mode": {
    "name": "ipython",
    "version": 3
   },
   "file_extension": ".py",
   "mimetype": "text/x-python",
   "name": "python",
   "nbconvert_exporter": "python",
   "pygments_lexer": "ipython3",
   "version": "3.8.16"
  }
 },
 "nbformat": 4,
 "nbformat_minor": 5
}
