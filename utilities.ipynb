{
 "cells": [
  {
   "cell_type": "code",
   "execution_count": null,
   "metadata": {},
   "outputs": [],
   "source": [
    "from __future__ import annotations\n",
    "import math\n",
    "import pandas as pd\n",
    "from common import Checkpoint, Route, load_csv, heversine_and_azimuth"
   ]
  },
  {
   "cell_type": "code",
   "execution_count": null,
   "metadata": {},
   "outputs": [],
   "source": [
    "def heversine(lon1: float, lat1: float, lon2: float, lat2: float):\n",
    "    R = 6371.0  #Radius of the Earth in km\n",
    "    lat1 = math.radians(lat1)\n",
    "    lon1 = math.radians(lon1)\n",
    "    lat2 = math.radians(lat2)\n",
    "    lon2 = math.radians(lon2)\n",
    "    \n",
    "    dlon = lon2 - lon1\n",
    "    dlat = lat2 - lat1\n",
    "    a = math.sin(dlat / 2)**2 + math.cos(lat1) * math.cos(lat2) * math.sin(dlon / 2)**2\n",
    "    c = 2 * math.atan2(math.sqrt(a), math.sqrt(1 - a))\n",
    "    distance = R * c\n",
    "    \n",
    "    return distance"
   ]
  },
  {
   "cell_type": "code",
   "execution_count": null,
   "metadata": {},
   "outputs": [],
   "source": [
    "class Checkpoint:\n",
    "    def __init__(self, lat: float, lon: float, distance: float, azimuth: float, elevation: float, cloud_cover: int, wind_dir: float, wind_speed: float):\n",
    "        self.lat = lat\n",
    "        self.lon = lon\n",
    "        self.distance = distance\n",
    "        self.azimuth = azimuth\n",
    "        self.elevation = elevation\n",
    "        self.cloud_cover = cloud_cover\n",
    "        self.wind_dir = wind_dir\n",
    "        self.wind_speed = wind_speed\n",
    "    \n",
    "    def __str__(self):\n",
    "        return f\"Lat: {self.lat} | Lon: {self.lon} | Distance: {self.distance} | Azimuth: {self.azimuth} | Elevation: {self.elevation} | Cloud Cover: {self.cloud_cover} | Wind Dir: {self.wind_dir} | Wind Speed: {self.wind_speed}\"\n",
    "    \n",
    "    def __repr__(self):\n",
    "        return f\"Lat: {self.lat} | Lon: {self.lon} | Distance: {self.distance} | Azimuth: {self.azimuth} | Elevation: {self.elevation} | Cloud Cover: {self.cloud_cover} | Wind Dir: {self.wind_dir} | Wind Speed: {self.wind_speed}\""
   ]
  },
  {
   "cell_type": "code",
   "execution_count": null,
   "metadata": {},
   "outputs": [],
   "source": [
    "class Route:\n",
    "    def __init__(self, name: str, checkpoints: list[Checkpoint]):\n",
    "        self.name = name\n",
    "        self.checkpoints = checkpoints\n",
    "    def __str__(self):\n",
    "        return f\"{self.name}: {self.checkpoints}\"\n",
    "    \n",
    "    def __repr__(self):\n",
    "        return f\"{self.name}: {self.checkpoints}\""
   ]
  },
  {
   "cell_type": "code",
   "execution_count": null,
   "metadata": {},
   "outputs": [],
   "source": [
    "import csv\n",
    "\n",
    "def load_csv(name: str):\n",
    "    path = f\"data/generated/{name}.csv\"\n",
    "    checkpoints: list[Checkpoint] = []\n",
    "    with open(path, newline='') as csvfile:\n",
    "        reader = csv.reader(csvfile, delimiter=',')\n",
    "        next(reader)\n",
    "        next(reader)\n",
    "        for row in reader:\n",
    "            checkpoint = Checkpoint(float(row[0]), float(row[1]), float(row[2]), float(row[3]), float(row[4]), int(row[5]), float(row[6]), float(row[7]))\n",
    "            checkpoints.append(checkpoint)\n",
    "    return Route(name, checkpoints)\n"
   ]
  },
  {
   "cell_type": "code",
   "execution_count": null,
   "metadata": {},
   "outputs": [],
   "source": [
    "def match_coords_to_checkpoint(route: Route, location: tuple[float,float]):\n",
    "    closest_point = (0, math.inf)\n",
    "    for (i, coord) in enumerate(route.checkpoints):\n",
    "        new_distance,_ = heversine_and_azimuth(coord.lon, coord.lat, location[1], location[0])\n",
    "        if new_distance < closest_point[1]:\n",
    "            closest_point = (i,new_distance)\n",
    "    \n",
    "    return closest_point"
   ]
  },
  {
   "cell_type": "code",
   "execution_count": null,
   "metadata": {},
   "outputs": [],
   "source": [
    "route1 = load_csv(\"A. Independence to Topeka\")\n",
    "print(match_coords_to_checkpoint(route1, (38.9932976, -94.4785269)))\n",
    "print(route1.checkpoints[402])"
   ]
  },
  {
   "cell_type": "code",
   "execution_count": null,
   "metadata": {},
   "outputs": [],
   "source": [
    "import folium\n",
    "import pandas as pd\n",
    "def route_to_list(route: Route):\n",
    "    coords: list[tuple[float, float]] = [] \n",
    "    for checkpoint in route.checkpoints:\n",
    "        coords.append((checkpoint.lat, checkpoint.lon))\n",
    "    return coords\n",
    "\n",
    "def create_map(route: Route, random_coord: tuple[float, float]):\n",
    "    coords = route_to_list(route)\n",
    "    m = folium.Map()\n",
    "    folium.Marker(random_coord, popup=\"random\", draggable=True).add_to(m)\n",
    "    for coord in coords[0::50]:\n",
    "        folium.Marker(coord).add_to(m)\n",
    "    folium.PolyLine(coords, weight=5, opacity=1).add_to(m)\n",
    "    nearest_coord_index = match_coords_to_checkpoint(route, random_coord)[0]\n",
    "    nearest_coord = (route.checkpoints[nearest_coord_index].lat, route.checkpoints[nearest_coord_index].lon)\n",
    "    folium.PolyLine([random_coord, nearest_coord],color=\"#FF0000\", weight=5, opacity=1,tooltip=\"Ok\").add_to(m)\n",
    "    df = pd.DataFrame(coords).rename(columns={0: 'lat', 1: 'lon'})\n",
    "    print(df)\n",
    "    sw = df[['lat', 'lon']].min().values.tolist()\n",
    "    ne = df[['lat', 'lon']].max().values.tolist()\n",
    "    m.fit_bounds([sw, ne])\n",
    "    return m\n",
    "\n",
    "m = create_map(route1, (38.9932976, -94.4785269))\n",
    "m"
   ]
  }
 ],
 "metadata": {
  "kernelspec": {
   "display_name": "solar",
   "language": "python",
   "name": "python3"
  },
  "language_info": {
   "codemirror_mode": {
    "name": "ipython",
    "version": 3
   },
   "file_extension": ".py",
   "mimetype": "text/x-python",
   "name": "python",
   "nbconvert_exporter": "python",
   "pygments_lexer": "ipython3",
   "version": "3.11.3"
  }
 },
 "nbformat": 4,
 "nbformat_minor": 2
}
